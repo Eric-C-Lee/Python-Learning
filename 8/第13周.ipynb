{
 "cells": [
  {
   "cell_type": "markdown",
   "id": "9acf8eaf",
   "metadata": {},
   "source": [
    "练习1：假设我们有一个名为Vector的类，表示二维向量。我们希望实现以下魔术方法：\n",
    "1. __str__()：返回向量的描述字符串。\n",
    "2. __lt__(self, other)：比较两个向量的模长，判断是否小于。\n",
    "3. __le__()：比较两个向量的模长，判断是否小于等于。\n",
    "4. __eq__()：比较两个向量的模长，判断是否相等。\n"
   ]
  },
  {
   "cell_type": "code",
   "execution_count": 10,
   "id": "bae4bf2e",
   "metadata": {},
   "outputs": [
    {
     "name": "stdout",
     "output_type": "stream",
     "text": [
      "(3, 4)\n",
      "True\n",
      "True\n",
      "True\n"
     ]
    }
   ],
   "source": [
    "import math\n",
    "\n",
    "class Vector:\n",
    "    def __init__(self,x,y):\n",
    "        self.x=x\n",
    "        self.y=y\n",
    "    def __str__(self):\n",
    "        return \"({0}, {1})\".format(self.x, self.y)\n",
    "    def __lt__(self, other):\n",
    "        return math.sqrt(self.x**2 + self.y**2) < math.sqrt(other.x**2 + other.y**2)\n",
    "    def __le__(self, other):\n",
    "        return math.sqrt(self.x**2 + self.y**2) <= math.sqrt(other.x**2 + other.y**2)\n",
    "    def __eq__(self, other):\n",
    "        return math.sqrt(self.x**2 + self.y**2) == math.sqrt(other.x**2 + other.y**2)\n",
    "    \n",
    "vec1=Vector(3,4)\n",
    "vec2=Vector(2,6)\n",
    "vec3=Vector(4,3)\n",
    "\n",
    "\n",
    "print(vec1)\n",
    "print(vec1 < vec2)\n",
    "print(vec1<=vec3)\n",
    "print(vec1==vec3)"
   ]
  },
  {
   "cell_type": "markdown",
   "id": "00f8f45d",
   "metadata": {},
   "source": [
    "练习2：假设我们有一个名为Shape的基类，表示几何形状。我们希望实现以下方法：\n",
    "area()：计算几何形状的面积。\n",
    "\n",
    "然后，我们派生出两个子类Rectangle和Circle，分别表示矩形和圆形。请完成以下任务：\n",
    "1. 实现Shape类，包含一个area()方法，该方法应返回0。\n",
    "2. 实现Rectangle类，继承自Shape类，包含构造方法__init__(self, width, height)和重写的area()方法，根据矩形的宽度和高度计算并返回矩形的面积。\n",
    "3. 实现Circle类，继承自Shape类，包含构造方法__init__(self, radius)和重写的area()方法，根据圆的半径计算并返回圆的面积。\n"
   ]
  },
  {
   "cell_type": "code",
   "execution_count": 11,
   "id": "34c7b0a2",
   "metadata": {},
   "outputs": [
    {
     "name": "stdout",
     "output_type": "stream",
     "text": [
      "20\n",
      "28.274333882308138\n"
     ]
    }
   ],
   "source": [
    "import math\n",
    "\n",
    "class Shape:\n",
    "    def area(self):\n",
    "        return 0\n",
    "    \n",
    "class Rectangle(Shape):\n",
    "    def __init__(self,width,height):\n",
    "        self.width=width\n",
    "        self.height=height\n",
    "    def area(self):\n",
    "        return self.width*self.height\n",
    "\n",
    "class Circle(Shape):\n",
    "    def __init__(self,radius):\n",
    "        self.radius=radius\n",
    "    def area(self):\n",
    "        return math.pi*self.radius**2\n",
    "    \n",
    "rec=Rectangle(4,5)\n",
    "c=Circle(3)\n",
    "print(rec.area())\n",
    "print(c.area())\n"
   ]
  },
  {
   "cell_type": "code",
   "execution_count": null,
   "id": "7da0a129",
   "metadata": {},
   "outputs": [],
   "source": [
    "练习3：假设我们有一个名为Animal的基类，表示动物。我们希望实现以下方法：\n",
    "speak()：让动物发出声音。\n",
    "\n",
    "然后，我们派生出三个子类Dog、Cat和Duck，分别表示狗、猫和鸭子。请完成以下任务：\n",
    "1. 实现Animal类，包含一个__init__(self, name)方法和一个speak()方法。__init__()方法接收动物的名字作为参数，并将其保存在实例变量self.name中。speak()方法打印出动物发出的声音，例如，\"Dog <name> barks\"。\n",
    "2. 实现Dog类，继承自Animal类，不需要额外的属性或方法。在speak()方法中，应该打印出狗发出的声音，例如，\"Dog <name> barks\"。\n",
    "3. 实现Cat类，继承自Animal类，不需要额外的属性或方法。在speak()方法中，应该打印出猫发出的声音，例如，\"Cat <name> meows\"。\n",
    "4. 实现Duck类，继承自Animal类，不需要额外的属性或方法。在speak()方法中，应该打印出鸭子发出的声音，例如，\"Duck <name> quacks\"。\n"
   ]
  },
  {
   "cell_type": "code",
   "execution_count": 12,
   "id": "33ac2076",
   "metadata": {},
   "outputs": [
    {
     "name": "stdout",
     "output_type": "stream",
     "text": [
      "Dog Bobby barks\n",
      "Cat Kitty meows\n",
      "Duck Donald quacks\n"
     ]
    }
   ],
   "source": [
    "class Animal:\n",
    "    def __init__(self, name):\n",
    "        self.name = name\n",
    "        \n",
    "    def speak(self):\n",
    "        print(\"Animal {0} speaks\".format(self.name))\n",
    "        \n",
    "class Dog(Animal):\n",
    "    def speak(self):\n",
    "        print(\"Dog {0} barks\".format(self.name))\n",
    "\n",
    "class Cat(Animal):\n",
    "    def speak(self):\n",
    "        print(\"Cat {0} meows\".format(self.name))\n",
    "\n",
    "class Duck(Animal):\n",
    "    def speak(self):\n",
    "        print(\"Duck {0} quacks\".format(self.name))\n",
    "\n",
    "dog=Dog(\"Bobby\")\n",
    "cat=Cat(\"Kitty\")\n",
    "duck=Duck(\"Donald\")\n",
    "\n",
    "dog.speak()\n",
    "cat.speak()\n",
    "duck.speak()"
   ]
  },
  {
   "cell_type": "code",
   "execution_count": null,
   "id": "2ddc8bc2",
   "metadata": {},
   "outputs": [],
   "source": []
  }
 ],
 "metadata": {
  "kernelspec": {
   "display_name": "Python 3 (ipykernel)",
   "language": "python",
   "name": "python3"
  },
  "language_info": {
   "codemirror_mode": {
    "name": "ipython",
    "version": 3
   },
   "file_extension": ".py",
   "mimetype": "text/x-python",
   "name": "python",
   "nbconvert_exporter": "python",
   "pygments_lexer": "ipython3",
   "version": "3.9.13"
  }
 },
 "nbformat": 4,
 "nbformat_minor": 5
}
