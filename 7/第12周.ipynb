{
 "cells": [
  {
   "cell_type": "markdown",
   "id": "a88abbeb",
   "metadata": {},
   "source": [
    "练习1：设计一个闹钟类，包含“序列号”和“价格”两个属性，同时包含“响铃”方法，创建2个闹钟对象，为对象的属性赋值，并让其工作。"
   ]
  },
  {
   "cell_type": "code",
   "execution_count": 4,
   "id": "f96e619a",
   "metadata": {},
   "outputs": [
    {
     "name": "stdout",
     "output_type": "stream",
     "text": [
      "闹钟ID：003032，价格：19.9\n",
      "闹钟响了！\n",
      "闹钟ID：003033，价格：21.99\n",
      "闹钟响了！\n"
     ]
    }
   ],
   "source": [
    "import time\n",
    "import ctypes\n",
    "\n",
    "player = ctypes.windll.kernel32\n",
    "\n",
    "\n",
    "class AlarmClock:\n",
    "    def __init__(self, serial_num, price):\n",
    "        self.serial_num = serial_num\n",
    "        self.price = price\n",
    "\n",
    "    def ring(self):\n",
    "        print(\"闹钟响了！\")\n",
    "        player.Beep(1000, 500)\n",
    "        time.sleep(0.5)\n",
    "\n",
    "\n",
    "alarm1 = AlarmClock(\"003032\", 19.9)\n",
    "alarm2 = AlarmClock(\"003033\", 21.99)\n",
    "print(\"闹钟ID：{}，价格：{}\".format(alarm1.serial_num, alarm1.price))\n",
    "alarm1.ring()\n",
    "print(\"闹钟ID：{}，价格：{}\".format(alarm2.serial_num, alarm2.price))\n",
    "alarm2.ring()\n"
   ]
  },
  {
   "cell_type": "markdown",
   "id": "c13311b3",
   "metadata": {},
   "source": [
    "练习2：设计一个洗衣机类，包含“长”“宽”“高”三个属性，同时包含“洗衣服”方法，创建一个洗衣机对象，为对象的属性赋值，并让其工作。"
   ]
  },
  {
   "cell_type": "code",
   "execution_count": 9,
   "id": "28668e60",
   "metadata": {},
   "outputs": [
    {
     "name": "stdout",
     "output_type": "stream",
     "text": [
      "洗衣机的长度是:600\n",
      "洗衣机的宽度是:550\n",
      "洗衣机的高度是:850\n",
      "洗衣机开始洗衣服了\n"
     ]
    }
   ],
   "source": [
    "class WashingMachine:\n",
    "    def __init__(self, length, width, height):\n",
    "        self.length = length\n",
    "        self.width = width\n",
    "        self.height = height\n",
    "\n",
    "    def wash_clothes(self):\n",
    "        print(\"洗衣机的长度是:{}\".format(WashCloth.length))\n",
    "        print(\"洗衣机的宽度是:{}\".format(WashCloth.width))\n",
    "        print(\"洗衣机的高度是:{}\".format(WashCloth.height))\n",
    "        print(\"洗衣机开始洗衣服了\")\n",
    "\n",
    "\n",
    "WashCloth = WashingMachine(600, 550, 850)\n",
    "WashCloth.wash_clothes()\n"
   ]
  },
  {
   "cell_type": "markdown",
   "id": "7915bb0f",
   "metadata": {},
   "source": [
    "练习3：在练习1的基础上，通过构造方法创建闹钟对象，并让其工作。"
   ]
  },
  {
   "cell_type": "code",
   "execution_count": null,
   "id": "52d2c6a8",
   "metadata": {},
   "outputs": [],
   "source": [
    "import time\n",
    "import ctypes\n",
    "\n",
    "player = ctypes.windll.kernel32\n",
    "\n",
    "\n",
    "class AlarmClock:\n",
    "    def __init__(self, serial_num, price):\n",
    "        self.serial_num = serial_num\n",
    "        self.price = price\n",
    "\n",
    "    def ring(self):\n",
    "        print(\"闹钟响了！\")\n",
    "        player.Beep(1000, 500)\n",
    "        time.sleep(0.5)\n",
    "\n",
    "\n",
    "alarm1 = AlarmClock(\"003032\", 19.9)\n",
    "alarm2 = AlarmClock(\"003033\", 21.99)\n",
    "print(\"闹钟ID：{}，价格：{}\".format(alarm1.serial_num, alarm1.price))\n",
    "alarm1.ring()\n",
    "print(\"闹钟ID：{}，价格：{}\".format(alarm2.serial_num, alarm2.price))\n",
    "alarm2.ring()\n"
   ]
  },
  {
   "cell_type": "markdown",
   "id": "72f650d6",
   "metadata": {},
   "source": [
    "练习4：在练习2的基础上，通过构造方法创建洗衣机对象，并让其工作。"
   ]
  },
  {
   "cell_type": "code",
   "execution_count": 13,
   "id": "91f2dbe7",
   "metadata": {},
   "outputs": [
    {
     "name": "stdout",
     "output_type": "stream",
     "text": [
      "洗衣机的长度是:600\n",
      "洗衣机的宽度是:550\n",
      "洗衣机的高度是:850\n",
      "洗衣机开始洗衣服了\n"
     ]
    }
   ],
   "source": [
    "class WashingMachine:\n",
    "    def __init__(self, length, width, height):\n",
    "        self.length = length\n",
    "        self.width = width\n",
    "        self.height = height\n",
    "\n",
    "    def wash_clothes(self):\n",
    "        print(\"洗衣机的长度是:{}\".format(WashCloth.length))\n",
    "        print(\"洗衣机的宽度是:{}\".format(WashCloth.width))\n",
    "        print(\"洗衣机的高度是:{}\".format(WashCloth.height))\n",
    "        print(\"洗衣机开始洗衣服了\")\n",
    "\n",
    "\n",
    "WashCloth = WashingMachine(600, 550, 850)\n",
    "WashCloth.wash_clothes()\n"
   ]
  },
  {
   "cell_type": "markdown",
   "id": "0f4d6e7d",
   "metadata": {},
   "source": [
    "练习5：定义一个Player类，包含“姓名”“年龄”和“球队”三个属性，同时包含“比赛”方法。要求在构造方法中“球队”属性通过缺省参数的形式进行赋值。"
   ]
  },
  {
   "cell_type": "code",
   "execution_count": 15,
   "id": "1e843ad0",
   "metadata": {},
   "outputs": [
    {
     "name": "stdout",
     "output_type": "stream",
     "text": [
      "17的科比正在为湖人队比赛\n",
      "18的麦迪正在为猛龙队比赛\n"
     ]
    }
   ],
   "source": [
    "class Player:\n",
    "    def __init__(self, name, age, team=\"Default\"):\n",
    "        self.name = name\n",
    "        self.age = age\n",
    "        self.team = team\n",
    "\n",
    "    def play(self):\n",
    "        print(f\"{self.age}的{self.name}正在为{self.team}比赛\")\n",
    "\n",
    "\n",
    "p1 = Player(\"科比\", 17, \"湖人队\")\n",
    "p2 = Player(\"麦迪\", 18, \"猛龙队\")\n",
    "p1.play()\n",
    "p2.play()\n"
   ]
  },
  {
   "cell_type": "code",
   "execution_count": null,
   "id": "3b31df4d",
   "metadata": {},
   "outputs": [],
   "source": []
  },
  {
   "cell_type": "code",
   "execution_count": null,
   "id": "86a6a0dd",
   "metadata": {},
   "outputs": [],
   "source": []
  },
  {
   "cell_type": "code",
   "execution_count": null,
   "id": "86a21e70",
   "metadata": {},
   "outputs": [],
   "source": []
  }
 ],
 "metadata": {
  "kernelspec": {
   "display_name": "Python 3 (ipykernel)",
   "language": "python",
   "name": "python3"
  },
  "language_info": {
   "codemirror_mode": {
    "name": "ipython",
    "version": 3
   },
   "file_extension": ".py",
   "mimetype": "text/x-python",
   "name": "python",
   "nbconvert_exporter": "python",
   "pygments_lexer": "ipython3",
   "version": "3.9.13"
  }
 },
 "nbformat": 4,
 "nbformat_minor": 5
}
