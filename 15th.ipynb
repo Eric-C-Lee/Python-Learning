{
 "cells": [
  {
   "cell_type": "markdown",
   "id": "58ea5c51",
   "metadata": {},
   "source": [
    "一、创建ndarray数组\n",
    "\n",
    "练习1：array()函数创建数组。通过列表或元组创建数组，数组的数据类型根据序列中元素的类型推导得出，数组以嵌套形式来表达数组的多维度概念。"
   ]
  },
  {
   "cell_type": "code",
   "execution_count": 8,
   "id": "e0262db5",
   "metadata": {},
   "outputs": [
    {
     "name": "stdout",
     "output_type": "stream",
     "text": [
      "[1 2 3 4]\n",
      "<class 'numpy.ndarray'>\n"
     ]
    }
   ],
   "source": [
    "import numpy as np\n",
    "a = np.array([1,2,3,4])\n",
    "b = np.array((7,8,9,10))\n",
    "c = np.array([[1,2,3,4],[7,8,9,10]])\n",
    "print(a)\n",
    "print(type(a))"
   ]
  },
  {
   "cell_type": "markdown",
   "id": "22096cbe",
   "metadata": {},
   "source": [
    "练习2：arange()函数创建数组。numpy中的arange()函数类似于内置函数range()，主要用于生成数组，在给定间隔内返回均匀间隔的数组。"
   ]
  },
  {
   "cell_type": "code",
   "execution_count": 9,
   "id": "1a17bad8",
   "metadata": {},
   "outputs": [
    {
     "name": "stdout",
     "output_type": "stream",
     "text": [
      "[[ 0  1  2  3]\n",
      " [ 4  5  6  7]\n",
      " [ 8  9 10 11]]\n",
      "[ 0  1  2  3  4  5  6  7  8  9 10 11]\n"
     ]
    }
   ],
   "source": [
    "b = np.arange(12).reshape(3,4)\n",
    "c = b.ravel()\n",
    "print(b)\n",
    "print(c)"
   ]
  },
  {
   "cell_type": "markdown",
   "id": "7250dbb0",
   "metadata": {},
   "source": [
    "练习3：eye()函数创建对角线为1的数组，其余的地方为0。"
   ]
  },
  {
   "cell_type": "code",
   "execution_count": 10,
   "id": "e502df9f",
   "metadata": {},
   "outputs": [
    {
     "name": "stdout",
     "output_type": "stream",
     "text": [
      "[[1. 0. 0. 0.]\n",
      " [0. 1. 0. 0.]\n",
      " [0. 0. 1. 0.]\n",
      " [0. 0. 0. 1.]]\n",
      "[[1. 0. 0. 0. 0. 1. 0. 0.]\n",
      " [0. 0. 1. 0. 0. 0. 0. 1.]]\n"
     ]
    }
   ],
   "source": [
    "b = np.eye(4)\n",
    "print(b)\n",
    "c = b.reshape(2,8)\n",
    "print(c)\n",
    "d = np.eye(4, 7, k = 2, dtype = np.int64)"
   ]
  },
  {
   "cell_type": "markdown",
   "id": "4e47ba86",
   "metadata": {},
   "source": [
    "练习4：ones()、zeros()函数创建元素为1、0的数组。"
   ]
  },
  {
   "cell_type": "code",
   "execution_count": 23,
   "id": "d74dd596",
   "metadata": {},
   "outputs": [
    {
     "name": "stdout",
     "output_type": "stream",
     "text": [
      "[[1 1 1 1]\n",
      " [1 1 1 1]\n",
      " [1 1 1 1]] [[0. 0. 0. 0.]\n",
      " [0. 0. 0. 0.]\n",
      " [0. 0. 0. 0.]]\n"
     ]
    }
   ],
   "source": [
    "ones1 = np.ones((3,4), dtype = np.int32)\n",
    "zeros1 = np.zeros((3,4))\n",
    "print(ones1,zeros1)"
   ]
  },
  {
   "cell_type": "markdown",
   "id": "6bb699f7",
   "metadata": {},
   "source": [
    "练习5：diag()函数创建数组。diag(x)，x可以为列表，元祖，一维或多为数组"
   ]
  },
  {
   "cell_type": "code",
   "execution_count": 21,
   "id": "2d9a564b",
   "metadata": {},
   "outputs": [
    {
     "name": "stdout",
     "output_type": "stream",
     "text": [
      "[[1 0 0 0]\n",
      " [0 2 0 0]\n",
      " [0 0 3 0]\n",
      " [0 0 0 4]] [1, 2, 3, 4] (1, 2, 3, 4) [[1 2 3]\n",
      " [4 5 6]\n",
      " [7 8 9]]\n"
     ]
    }
   ],
   "source": [
    "a = np.arange(1,5)\n",
    "b = [1,2,3,4]\n",
    "c = (1,2,3,4)\n",
    "d = np.arange(1,10).reshape(3, 3)\n",
    "a = np.diag(a)  #把b,c,d都放进去查看区别，d放进去返回的是d的对角线元素\n",
    "\n",
    "print(a,b,c,d)"
   ]
  },
  {
   "cell_type": "markdown",
   "id": "d80bbd29",
   "metadata": {},
   "source": [
    "练习6：random ()函数创建数组。numpy中的random模块中有很多可以产生随机数构成数组的函数，如生成随机整数、0-1内的浮点数等。"
   ]
  },
  {
   "cell_type": "code",
   "execution_count": 13,
   "id": "85d4c530",
   "metadata": {},
   "outputs": [
    {
     "data": {
      "text/plain": [
       "array([[-0.01371038,  1.70153599],\n",
       "       [ 1.60607697,  0.61434498],\n",
       "       [ 0.93334858,  2.6849194 ]])"
      ]
     },
     "execution_count": 13,
     "metadata": {},
     "output_type": "execute_result"
    }
   ],
   "source": [
    "np.random.rand()  #随机生成[0, 1)之间的一个数\n",
    "np.random.rand(2)  #随机生成一个[0, 1)之间的一维数组\n",
    "np.random.rand(3,2)  #随机生成一个[0, 1)之间的二维数组\n",
    "np.random.randint(3,size=3)  #生成3个[0, 3)之间的整数\n",
    "np.random.randint(1,5)  #size=None,生成一个[1, 5)之间随机的一个整数\n",
    "np.random.randint(1,5,size=(3,2))  #生成一个[1, 5)之间随机的一个二维数组\n",
    "np.random.uniform()  #随机生成一个0-1.0的随机数\n",
    "np.random.uniform(size=(3,2))   #随机生成一个数据是[0 -, 1.0)的二维数组\n",
    "np.random.uniform(-1,1,size=10)  #随机生成一个[-1 , 1)的10个数的一维数组\n",
    "np.random.uniform(5,10,size=(2, 3))  #随机生成一个[5 , 10) 的二维数组\n",
    "np.random.randn()   #随机生成一个数\n",
    "np.random.randn(1)  #随机生成一个一维数组\n",
    "np.random.randn(3,2)  #随机生成一个二维数组"
   ]
  },
  {
   "cell_type": "markdown",
   "id": "f9d736df",
   "metadata": {},
   "source": [
    "练习7：创建数组的其他方式。"
   ]
  },
  {
   "cell_type": "code",
   "execution_count": 19,
   "id": "fa220196",
   "metadata": {},
   "outputs": [
    {
     "name": "stdout",
     "output_type": "stream",
     "text": [
      "[ 2.          4.57142857  7.14285714  9.71428571 12.28571429 14.85714286\n",
      " 17.42857143 20.        ]\n",
      "[ 10.          12.91549665  16.68100537  21.5443469   27.82559402\n",
      "  35.93813664  46.41588834  59.94842503  77.42636827 100.        ]\n",
      "[[6. 6. 6.]\n",
      " [6. 6. 6.]\n",
      " [6. 6. 6.]]\n",
      "[[1. 1. 1.]\n",
      " [1. 1. 1.]\n",
      " [1. 1. 1.]]\n",
      "[[0. 0. 0.]\n",
      " [0. 0. 0.]\n",
      " [0. 0. 0.]]\n",
      "[[6. 6. 6.]\n",
      " [6. 6. 6.]\n",
      " [6. 6. 6.]]\n"
     ]
    }
   ],
   "source": [
    "#创建具有指定数量元素的数组，并在指定的开始值和结束值之间平均间隔\n",
    "array1 = np.linspace(2, 20, 8) \n",
    "# 在对数刻度上均匀分布的数字，刻度的开始和结束端点是某个底数的幂，通常为10\n",
    "array2 = np.logspace(1, 2, num=10) \n",
    "#创建空的（3，3）的二维空数组\n",
    "array3 = np.empty((3, 3))\n",
    "#创建类似于array3的元素都为1的数组\n",
    "array4 = np.ones_like(array3)\n",
    "#创建类似于array3的元素都为0的数组\n",
    "array5 = np.zeros_like(array3)\n",
    "#创建类似于array3的元素都为6的数组\n",
    "array6 = np.full_like(array3, 6)\n",
    "#创建自定义数组形状及数值\n",
    "array7 = np.full((2, 3), 6)\n",
    "\n",
    "\n",
    "for i in range(1,7):\n",
    "    array_name='array{}'.format(i)\n",
    "    print(eval(array_name))"
   ]
  },
  {
   "cell_type": "markdown",
   "id": "908ce606",
   "metadata": {},
   "source": [
    "二、数组属性、数组元素类型转换、改变数组形状\n",
    "\n",
    "练习8：数组属性练习：ndim、shape、size、dtype。"
   ]
  },
  {
   "cell_type": "code",
   "execution_count": 25,
   "id": "24fd38ed",
   "metadata": {},
   "outputs": [
    {
     "name": "stdout",
     "output_type": "stream",
     "text": [
      "[[[1. 2.]\n",
      "  [3. 4.]]\n",
      "\n",
      " [[5. 6.]\n",
      "  [7. 8.]]]\n"
     ]
    }
   ],
   "source": [
    "c = np.array([[[1,2], [3,4]], [[5,6], [7,8]]], dtype = np.float64)\n",
    "c.ndim\n",
    "c.shape\n",
    "c.size\n",
    "c.dtype\n",
    "print(c)"
   ]
  },
  {
   "cell_type": "markdown",
   "id": "b2918159",
   "metadata": {},
   "source": [
    "练习9：改变数组形状。"
   ]
  },
  {
   "cell_type": "code",
   "execution_count": 27,
   "id": "6d2c3c37",
   "metadata": {},
   "outputs": [
    {
     "name": "stdout",
     "output_type": "stream",
     "text": [
      "[[1. 2. 3. 4. 5. 6. 7. 8.]]\n"
     ]
    }
   ],
   "source": [
    "c.reshape(2,4)\n",
    "c.resize(1,8)\n",
    "print(c)"
   ]
  },
  {
   "cell_type": "markdown",
   "id": "69802f52",
   "metadata": {},
   "source": [
    "练习10：数组元素类型转换。"
   ]
  },
  {
   "cell_type": "code",
   "execution_count": 29,
   "id": "95d7572e",
   "metadata": {},
   "outputs": [
    {
     "name": "stdout",
     "output_type": "stream",
     "text": [
      "[[1 2 3 4 5 6 7 8]]\n"
     ]
    }
   ],
   "source": [
    "b=c.astype(np.int32)\n",
    "print(b)"
   ]
  },
  {
   "cell_type": "markdown",
   "id": "a493ba6c",
   "metadata": {},
   "source": [
    "三、数组的切片和索引操作\n",
    "\n",
    "练习11：一维数组的索引操作。"
   ]
  },
  {
   "cell_type": "code",
   "execution_count": 30,
   "id": "7db63092",
   "metadata": {},
   "outputs": [
    {
     "name": "stdout",
     "output_type": "stream",
     "text": [
      "[1 2 3 4 5 6 7 8 9]\n",
      "4\n",
      "9\n"
     ]
    }
   ],
   "source": [
    "a = np.arange(1, 10)\n",
    "print(a)  # 1 2 3 4 5 6 7 8 9\n",
    "print(a[3])\n",
    "print(a[-1])"
   ]
  },
  {
   "cell_type": "markdown",
   "id": "1f43c882",
   "metadata": {},
   "source": [
    "练习12：多维数组的索引操作。"
   ]
  },
  {
   "cell_type": "code",
   "execution_count": 31,
   "id": "1cd3c75e",
   "metadata": {},
   "outputs": [
    {
     "name": "stdout",
     "output_type": "stream",
     "text": [
      "[[10 11 12]\n",
      " [13 14 15]\n",
      " [16 17 18]]\n",
      "[13 14 15]\n",
      "14\n"
     ]
    }
   ],
   "source": [
    "a = np.arange(1, 28)\n",
    "a.resize(3,3,3)\n",
    "print(a[1])\n",
    "print(a[1][1])\n",
    "print(a[1][1][1])"
   ]
  },
  {
   "cell_type": "markdown",
   "id": "b699203a",
   "metadata": {},
   "source": [
    "练习13：一维数组的切片操作。"
   ]
  },
  {
   "cell_type": "code",
   "execution_count": 32,
   "id": "69d34f31",
   "metadata": {},
   "outputs": [
    {
     "name": "stdout",
     "output_type": "stream",
     "text": [
      "[1 2 3 4 5 6 7 8 9]\n",
      "[1 2 3]\n",
      "[4 5 6]\n",
      "[7 8 9]\n",
      "[9 8 7 6 5 4 3 2 1]\n",
      "[1 2 3 4 5 6 7 8 9]\n",
      "[1 2 3 4 5 6 7 8 9]\n",
      "[1 4 7]\n",
      "[2 5 8]\n",
      "[3 6 9]\n"
     ]
    }
   ],
   "source": [
    "a = np.arange(1, 10)\n",
    "print(a)  # 1 2 3 4 5 6 7 8 9\n",
    "print(a[:3])  # 1 2 3\n",
    "print(a[3:6])   # 4 5 6\n",
    "print(a[6:])  # 7 8 9\n",
    "print(a[::-1])  # 9 8 7 6 5 4 3 2 1\n",
    "print(a[::])  # 1 2 3 4 5 6 7 8 9\n",
    "print(a[:])  # 1 2 3 4 5 6 7 8 9\n",
    "print(a[::3])  # 1 4 7\n",
    "print(a[1::3])  # 2 5 8\n",
    "print(a[2::3])  # 3 6 9"
   ]
  },
  {
   "cell_type": "markdown",
   "id": "c8472cf7",
   "metadata": {},
   "source": [
    "练习14：多维数组的切片操作。"
   ]
  },
  {
   "cell_type": "code",
   "execution_count": 35,
   "id": "38311484",
   "metadata": {},
   "outputs": [
    {
     "name": "stdout",
     "output_type": "stream",
     "text": [
      "[[[ 1  2  3]\n",
      "  [ 4  5  6]\n",
      "  [ 7  8  9]]\n",
      "\n",
      " [[10 11 12]\n",
      "  [13 14 15]\n",
      "  [16 17 18]]\n",
      "\n",
      " [[19 20 21]\n",
      "  [22 23 24]\n",
      "  [25 26 27]]]\n",
      "1\n",
      "[[10 11 12]\n",
      " [13 14 15]\n",
      " [16 17 18]]\n",
      "区别 [[[10 11 12]\n",
      "  [13 14 15]\n",
      "  [16 17 18]]\n",
      "\n",
      " [[19 20 21]\n",
      "  [22 23 24]\n",
      "  [25 26 27]]]\n",
      "[[ 4  5  6]\n",
      " [13 14 15]\n",
      " [22 23 24]]\n",
      "[2 5 8]\n",
      "[[[10]\n",
      "  [13]\n",
      "  [16]]\n",
      "\n",
      " [[19]\n",
      "  [22]\n",
      "  [25]]]\n",
      "[[19 20 21]\n",
      " [22 23 24]\n",
      " [25 26 27]]\n",
      "[22 23 24]\n"
     ]
    }
   ],
   "source": [
    "import numpy as np\n",
    "a = np.arange(1, 28)\n",
    "a.resize(3,3,3)\n",
    "print(a)\n",
    "print(a[0, 0, 0])\n",
    "print(a[1, :, :])    #思考：如果是print(a[1:, :, :]) 则有什么区别？\n",
    "print('区别',a[1:,:,:])\n",
    "print(a[:, 1, :])\n",
    "print(a[0, :, 1])\n",
    "print(a[1:, :, 0:1])\n",
    "print(a[1:][1])\n",
    "print(a[1:][1][1])\n"
   ]
  },
  {
   "cell_type": "markdown",
   "id": "8950d29e",
   "metadata": {},
   "source": [
    "四、数组的拼接和拆分操作\n",
    "\n",
    "练习15：数组的拼接操作。"
   ]
  },
  {
   "cell_type": "code",
   "execution_count": 36,
   "id": "cc3fdffe",
   "metadata": {},
   "outputs": [
    {
     "data": {
      "text/plain": [
       "array([[1, 1, 1, 6, 6, 6],\n",
       "       [1, 1, 1, 6, 6, 6]])"
      ]
     },
     "execution_count": 36,
     "metadata": {},
     "output_type": "execute_result"
    }
   ],
   "source": [
    "a = np.full((2, 3), 1)\n",
    "b = np.full((2, 3), 6)\n",
    "#垂直拼接\n",
    "np.vstack((a, b))\n",
    "#水平拼接\n",
    "np.hstack((a, b))"
   ]
  },
  {
   "cell_type": "markdown",
   "id": "5ebead18",
   "metadata": {},
   "source": [
    "练习16：数组的拆分操作。"
   ]
  },
  {
   "cell_type": "code",
   "execution_count": 37,
   "id": "2e54308a",
   "metadata": {},
   "outputs": [
    {
     "data": {
      "text/plain": [
       "[array([[1],\n",
       "        [5],\n",
       "        [9]]),\n",
       " array([[ 2],\n",
       "        [ 6],\n",
       "        [10]]),\n",
       " array([[ 3],\n",
       "        [ 7],\n",
       "        [11]]),\n",
       " array([[ 4],\n",
       "        [ 8],\n",
       "        [12]])]"
      ]
     },
     "execution_count": 37,
     "metadata": {},
     "output_type": "execute_result"
    }
   ],
   "source": [
    "c = np.arange(1, 13).reshape(3,4)\n",
    "#按行拆分，c有3行\n",
    "np.vsplit(c, 3)\n",
    "s = np.vsplit(c, 3)\n",
    "s[1]  # 查看一下s[1].shape\n",
    "#按列拆分，a有4列\n",
    "np.hsplit(c, 4)"
   ]
  },
  {
   "cell_type": "markdown",
   "id": "4f1cc05b",
   "metadata": {},
   "source": [
    "五、数组的删除、复制、排序操作\n",
    "\n",
    "练习17：数组的复制操作。"
   ]
  },
  {
   "cell_type": "code",
   "execution_count": 39,
   "id": "f86a7f70",
   "metadata": {},
   "outputs": [
    {
     "name": "stdout",
     "output_type": "stream",
     "text": [
      "[[1 1 1]\n",
      " [1 1 1]] [[1 1 1]\n",
      " [1 1 1]] [[1 1 1]\n",
      " [1 1 1]] [[1 1 1]\n",
      " [1 1 1]]\n",
      "[[0 0 0]\n",
      " [1 1 1]] [[0 0 0]\n",
      " [1 1 1]] [[1 1 1]\n",
      " [1 1 1]] [[0 0 0]\n",
      " [1 1 1]]\n"
     ]
    }
   ],
   "source": [
    "a = np.full((2, 3), 1)\n",
    "b = a.view()\n",
    "c = a.copy()  #深层复制，数据不共享\n",
    "d = a\n",
    "#查看a、b、c、d\n",
    "print(a,b,c,d)\n",
    "a[0] = 0\n",
    "#查看a、b、c、d\n",
    "print(a,b,c,d)"
   ]
  },
  {
   "cell_type": "markdown",
   "id": "8a1bbe0f",
   "metadata": {},
   "source": [
    "六、numpy数组计算及统计函数\n",
    "练习18：数组的简单计算。"
   ]
  },
  {
   "cell_type": "code",
   "execution_count": 40,
   "id": "be3416c6",
   "metadata": {},
   "outputs": [
    {
     "data": {
      "text/plain": [
       "array([2, 3, 4])"
      ]
     },
     "execution_count": 40,
     "metadata": {},
     "output_type": "execute_result"
    }
   ],
   "source": [
    "a = np.array([1, 2, 3])\n",
    "b = np.array([4, 5, 6])\n",
    "a-b\n",
    "a+b\n",
    "a*b\n",
    "a/b\n",
    "a+1"
   ]
  },
  {
   "cell_type": "markdown",
   "id": "e7cc6566",
   "metadata": {},
   "source": [
    "练习19：numpy常见统计函数：sum、min、max、mean、median、std、var等（不能直接求众数Mode）。"
   ]
  },
  {
   "cell_type": "code",
   "execution_count": 41,
   "id": "9f7310b5",
   "metadata": {},
   "outputs": [
    {
     "name": "stdout",
     "output_type": "stream",
     "text": [
      "10\n",
      "1\n",
      "4\n"
     ]
    }
   ],
   "source": [
    "a = np.array([1,2,3,4])\n",
    "# 求和、最小值、最大值\n",
    "print(np.sum(a))\n",
    "print(np.min(a))\n",
    "print(np.max(a))"
   ]
  },
  {
   "cell_type": "markdown",
   "id": "f5ad6873",
   "metadata": {},
   "source": [
    "七、numpy综合练习题\n",
    "1、创建一个四维数组，元素个数为120个，元素的值为整数，范围为1-100。"
   ]
  },
  {
   "cell_type": "code",
   "execution_count": 42,
   "id": "347c7ffd",
   "metadata": {},
   "outputs": [
    {
     "name": "stdout",
     "output_type": "stream",
     "text": [
      "[[[[ 96  81  95   9  68]\n",
      "   [ 18  50  63  54  47]\n",
      "   [ 56  29  49  54  43]\n",
      "   [ 96  70   4  11  12]]\n",
      "\n",
      "  [[ 52  84  49  57  88]\n",
      "   [ 95  46  73  92  87]\n",
      "   [ 53  23 100   1   1]\n",
      "   [ 65  51  80   9  90]]\n",
      "\n",
      "  [[ 94   7  64  78  28]\n",
      "   [  9  71  40  27  25]\n",
      "   [ 93  73  29  83  51]\n",
      "   [ 67  50  34   5  41]]]\n",
      "\n",
      "\n",
      " [[[ 21  42   6   1   3]\n",
      "   [  8  78  70  45  49]\n",
      "   [ 44  48   1  98  81]\n",
      "   [ 39  65  49  78  36]]\n",
      "\n",
      "  [[ 30  95  50  20  67]\n",
      "   [ 67  87  36  17  88]\n",
      "   [ 78  63  38  31  72]\n",
      "   [ 19  76  30  80  96]]\n",
      "\n",
      "  [[ 16   8  69  49  96]\n",
      "   [ 64  70  88  25  79]\n",
      "   [ 72  97   4  19  37]\n",
      "   [ 12  44   3  13  83]]]]\n"
     ]
    }
   ],
   "source": [
    "arr =np.random.randint(low=1,high=101,size=(2,3,4,5))\n",
    "print(arr)"
   ]
  },
  {
   "cell_type": "markdown",
   "id": "1ce76940",
   "metadata": {},
   "source": [
    "2、生成一组范围在[0，1)内的2行2列的随机浮点数。"
   ]
  },
  {
   "cell_type": "code",
   "execution_count": 43,
   "id": "78dd6f78",
   "metadata": {},
   "outputs": [
    {
     "name": "stdout",
     "output_type": "stream",
     "text": [
      "[[0.80963811 0.13706106]\n",
      " [0.17972029 0.13441316]]\n"
     ]
    }
   ],
   "source": [
    "arr=np.random.rand(2,2)\n",
    "print(arr)"
   ]
  },
  {
   "cell_type": "markdown",
   "id": "bb404887",
   "metadata": {},
   "source": [
    "3、生成一组范围在[1，10)内的2行2列的随机整数。"
   ]
  },
  {
   "cell_type": "code",
   "execution_count": 44,
   "id": "d0567f4a",
   "metadata": {},
   "outputs": [
    {
     "name": "stdout",
     "output_type": "stream",
     "text": [
      "[[1 3]\n",
      " [8 4]]\n"
     ]
    }
   ],
   "source": [
    "arr=np.random.randint(1,10,(2,2))\n",
    "print(arr)"
   ]
  },
  {
   "cell_type": "markdown",
   "id": "c08e4d46",
   "metadata": {},
   "source": [
    "4、a = np.arange(1, 28).reshape(3,3,3)。请输出下图中的截取部门。"
   ]
  },
  {
   "cell_type": "code",
   "execution_count": 51,
   "id": "1a6b6df7",
   "metadata": {},
   "outputs": [
    {
     "name": "stdout",
     "output_type": "stream",
     "text": [
      "[[11 14 17]\n",
      " [20 23 26]]\n"
     ]
    }
   ],
   "source": [
    "a = np.arange(1, 28).reshape(3,3,3)\n",
    "b=a[1:,:,1]\n",
    "print(b)"
   ]
  },
  {
   "cell_type": "code",
   "execution_count": null,
   "id": "276a9b07",
   "metadata": {},
   "outputs": [],
   "source": []
  }
 ],
 "metadata": {
  "kernelspec": {
   "display_name": "Python 3 (ipykernel)",
   "language": "python",
   "name": "python3"
  },
  "language_info": {
   "codemirror_mode": {
    "name": "ipython",
    "version": 3
   },
   "file_extension": ".py",
   "mimetype": "text/x-python",
   "name": "python",
   "nbconvert_exporter": "python",
   "pygments_lexer": "ipython3",
   "version": "3.9.13"
  }
 },
 "nbformat": 4,
 "nbformat_minor": 5
}
